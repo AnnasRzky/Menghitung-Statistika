{
  "nbformat": 4,
  "nbformat_minor": 0,
  "metadata": {
    "colab": {
      "provenance": []
    },
    "kernelspec": {
      "name": "python3",
      "display_name": "Python 3"
    },
    "language_info": {
      "name": "python"
    }
  },
  "cells": [
    {
      "cell_type": "code",
      "execution_count": null,
      "metadata": {
        "colab": {
          "base_uri": "https://localhost:8080/"
        },
        "id": "dm4AqYzSDado",
        "outputId": "56f5176a-1941-4ee2-e0fc-12b2e8850fdb"
      },
      "outputs": [
        {
          "output_type": "stream",
          "name": "stdout",
          "text": [
            "Nilai data yang akan di cari : \n",
            "\n",
            "    Sensus BPS 2020 Data Kemendagri 2015\n",
            "0        3.037.139            2.852.887\n",
            "1        2.874.314            2.805.906\n",
            "2        2.543.676            2.381.053\n",
            "3        2.444.160            2.339.463\n",
            "4        2.435.252            2.465.469\n",
            "5        2.434.511            2.234.397\n",
            "6        2.226.812            2.113.411\n",
            "7        2.056.335            1.631.951\n",
            "8        1.895.486            1.566.190\n",
            "9        1.778.981            1.647.853\n",
            "10       1.668.848            1.548.064\n",
            "11       1.653.524            1.687.222\n",
            "12       1.423.877            1.651.146\n",
            "13       1.354.350            1.219.245\n",
            "14       1.196.396            1.029.808\n",
            "15       1.166.066            1.166.761\n",
            "16       1.056.896            1.114.581\n",
            "17       1.043.070              982.469\n",
            "18         983.356              855.221\n",
            "19         909.040              872.271\n",
            "20         843.810              808.945\n",
            "21         827.944              752.845\n",
            "22         725.314              632.016\n",
            "23         716.155              678.027\n",
            "24         730.530              613.356\n",
            "25         688.318              597.625\n",
            "26         658.685              651.139\n",
            "27         657.663              635.688\n",
            "28         606.200              602.187\n",
            "29         568.400              513.176\n",
            "30         522.364              552.118\n",
            "31         451.916              461.636\n",
            "32         442.758              433.970\n",
            "33         434.896              387.543\n",
            "34         429.651              408.900\n",
            "35         398.478              413.283\n",
            "36         373.591              360.495\n",
            "37         373.589              407.617\n",
            "38         373.218              359.350\n",
            "39         347.288              372.249\n",
            "40         346.325              320.970\n",
            "41         345.107              331.013\n",
            "42         333.303              316.126\n",
            "43         316.782              264.084\n",
            "44         307.150              298.386\n",
            "45         293.457              249.429\n",
            "46         291.842              269.053\n",
            "47         286.796              280.780\n",
            "48         284.410              272.349\n",
            "49         273.825              275.789\n"
          ]
        }
      ],
      "source": [
        "import pandas as pd\n",
        "import numpy as np\n",
        "from itertools import combinations\n",
        "from tabulate import tabulate\n",
        "\n",
        "# Membaca data dari contoh sampel\n",
        "data = pd.read_excel('/content/data.xlsx')\n",
        "\n",
        "# Select only the specified columns\n",
        "selected_columns = data[[\"Sensus BPS 2020\", \"Data Kemendagri 2015\"]]\n",
        "\n",
        "# Print the selected columns\n",
        "print(\"Nilai data yang akan di cari : \\n\\n\",selected_columns)\n",
        "\n",
        "# Kolom Sensus BPS 2020\n",
        "selected_column1 = \"Sensus BPS 2020\"\n",
        "column_data1 = data[selected_column1]\n",
        "\n",
        "# Mengonversi nilai ke tipe data numerik tanpa menimbulkan peringatan\n",
        "column_data_numeric1 = pd.to_numeric(column_data1.str.replace('.', '', regex=False), errors='coerce')\n",
        "\n",
        "# Kolom Kemendagri\n",
        "selected_column2 = \"Data Kemendagri 2015\"\n",
        "column_data2 = data[selected_column2]\n",
        "\n",
        "# Mengonversi nilai ke tipe data numerik tanpa menimbulkan peringatan\n",
        "column_data_numeric2 = pd.to_numeric(column_data2.str.replace('.', '', regex=False), errors='coerce')"
      ]
    },
    {
      "cell_type": "code",
      "source": [
        "# Mencari Nilai Median\n",
        "print(\"Mencari Nilai Median : \")\n",
        "\n",
        "# Menghitung median\n",
        "median_value1 = column_data_numeric1.median()\n",
        "\n",
        "# Menampilkan hasil\n",
        "print(f\"Median dari {selected_column1}: {median_value1}\")\n",
        "\n",
        "# Menghitung median\n",
        "median_value2 = column_data_numeric2.median()\n",
        "\n",
        "print(f\"Median dari {selected_column2}: {median_value2}\")"
      ],
      "metadata": {
        "colab": {
          "base_uri": "https://localhost:8080/"
        },
        "id": "n1XAq2w0ep0F",
        "outputId": "0e6c21cb-cd46-4f7f-9b86-8646e914a034"
      },
      "execution_count": null,
      "outputs": [
        {
          "output_type": "stream",
          "name": "stdout",
          "text": [
            "Mencari Nilai Median : \n",
            "Median dari Sensus BPS 2020: 702236.5\n",
            "Median dari Data Kemendagri 2015: 633852.0\n"
          ]
        }
      ]
    },
    {
      "cell_type": "code",
      "source": [
        "## Mencari nilai kuartil\n",
        "\n",
        "print(\"Mencari Nilai Kuartil : \")\n",
        "\n",
        "# Kuartil Pertama (Q1)\n",
        "q1_value1 = column_data_numeric1.quantile(0.25)\n",
        "q1_value2 = column_data_numeric2.quantile(0.25)\n",
        "\n",
        "print(f\"Kuartil Pertama (Q1) dari {selected_column1}: {q1_value1}\")\n",
        "print(f\"Kuartil Pertama (Q1) dari {selected_column2}: {q1_value2}\\n\")\n",
        "\n",
        "# Kuartil Kedua (Q2)\n",
        "q2_value1 = column_data_numeric1.quantile(0.50)\n",
        "q2_value2 = column_data_numeric2.quantile(0.50)\n",
        "\n",
        "print(f\"Kuartil Kedua (Q2) dari {selected_column1}: {q2_value1}\")\n",
        "print(f\"Kuartil Kedua (Q2) dari {selected_column2}: {q2_value2}\\n\")\n",
        "\n",
        "# Kuartil Ketiga (Q3)\n",
        "q3_value1 = column_data_numeric1.quantile(0.75)\n",
        "q3_value2 = column_data_numeric2.quantile(0.75)\n",
        "\n",
        "print(f\"Kuartil Ketiga (Q3) dari {selected_column1}: {q3_value1}\")\n",
        "print(f\"Kuartil Ketiga (Q3) dari {selected_column2}: {q3_value2}\")\n"
      ],
      "metadata": {
        "id": "Q3jv7CgyLNy9",
        "colab": {
          "base_uri": "https://localhost:8080/"
        },
        "outputId": "bb928279-c0ba-4620-a5f7-355e1d403092"
      },
      "execution_count": null,
      "outputs": [
        {
          "output_type": "stream",
          "name": "stdout",
          "text": [
            "Mencari Nilai Kuartil : \n",
            "Kuartil Pertama (Q1) dari Sensus BPS 2020: 373589.5\n",
            "Kuartil Pertama (Q1) dari Data Kemendagri 2015: 376072.5\n",
            "\n",
            "Kuartil Kedua (Q2) dari Sensus BPS 2020: 702236.5\n",
            "Kuartil Kedua (Q2) dari Data Kemendagri 2015: 633852.0\n",
            "\n",
            "Kuartil Ketiga (Q3) dari Sensus BPS 2020: 1406495.25\n",
            "Kuartil Ketiga (Q3) dari Data Kemendagri 2015: 1465859.25\n"
          ]
        }
      ]
    },
    {
      "cell_type": "code",
      "source": [
        "##Mencari Nilai Persentil\n",
        "\n",
        "print(\"Mencari Nilai Persentil : \")\n",
        "\n",
        "# Persentil 10\n",
        "p10_value1 = column_data_numeric1.quantile(0.10)\n",
        "p10_value2 = column_data_numeric2.quantile(0.10)\n",
        "\n",
        "print(f\"Persentil 10 dari {selected_column1}: {p10_value1:.2f}\")\n",
        "print(f\"Persentil 10 dari {selected_column2}: {p10_value2:.2f}\\n\")\n",
        "\n",
        "# Persentil 30\n",
        "p30_value1 = column_data_numeric1.quantile(0.30)\n",
        "p30_value2 = column_data_numeric2.quantile(0.30)\n",
        "\n",
        "print(f\"Persentil 30 dari {selected_column1}: {p30_value1:.2f}\")\n",
        "print(f\"Persentil 30 dari {selected_column2}: {p30_value2:.2f}\\n\")\n",
        "\n",
        "# Persentil 50\n",
        "p50_value1 = column_data_numeric1.quantile(0.50)\n",
        "p50_value2 = column_data_numeric2.quantile(0.50)\n",
        "\n",
        "print(f\"Persentil 50 dari {selected_column1}: {p50_value1:.2f}\")\n",
        "print(f\"Persentil 50 dari {selected_column2}: {p50_value2:.2f}\\n\")\n",
        "\n",
        "\n",
        "# Persentil 70\n",
        "p70_value1 = column_data_numeric1.quantile(0.70)\n",
        "p70_value2 = column_data_numeric2.quantile(0.70)\n",
        "\n",
        "print(f\"Persentil 70 dari {selected_column1}: {p70_value1:.2f}\")\n",
        "print(f\"Persentil 70 dari {selected_column2}: {p70_value2:.2f}\\n\")\n",
        "\n",
        "# Persentil 90\n",
        "p90_value1 = column_data_numeric1.quantile(0.90)\n",
        "p90_value2 = column_data_numeric2.quantile(0.90)\n",
        "\n",
        "print(f\"Persentil 90 dari {selected_column1}: {p90_value1:.2f}\")\n",
        "print(f\"Persentil 90 dari {selected_column2}: {p90_value2:.2f}\")"
      ],
      "metadata": {
        "colab": {
          "base_uri": "https://localhost:8080/"
        },
        "id": "0vXvMPQvfzuW",
        "outputId": "2623904a-befd-4977-ec9b-4fe8d6ad545d"
      },
      "execution_count": null,
      "outputs": [
        {
          "output_type": "stream",
          "name": "stdout",
          "text": [
            "Mencari Nilai Persentil : \n",
            "Persentil 10 dari Sensus BPS 2020: 305780.70\n",
            "Persentil 10 dari Data Kemendagri 2015: 280280.90\n",
            "\n",
            "Persentil 30 dari Sensus BPS 2020: 420299.10\n",
            "Persentil 30 dari Data Kemendagri 2015: 408515.10\n",
            "\n",
            "Persentil 50 dari Sensus BPS 2020: 702236.50\n",
            "Persentil 50 dari Data Kemendagri 2015: 633852.00\n",
            "\n",
            "Persentil 70 dari Sensus BPS 2020: 1175165.00\n",
            "Persentil 70 dari Data Kemendagri 2015: 1130235.00\n",
            "\n",
            "Persentil 90 dari Sensus BPS 2020: 2434585.10\n",
            "Persentil 90 dari Data Kemendagri 2015: 2244903.60\n"
          ]
        }
      ]
    },
    {
      "cell_type": "code",
      "source": [
        "## Mencari Nilai Desil\n",
        "\n",
        "print(\"Mencari Nilai Desil : \")\n",
        "\n",
        "# Desil 1\n",
        "d1_value1 = column_data_numeric1.quantile(0.1)\n",
        "d1_value2 = column_data_numeric2.quantile(0.1)\n",
        "\n",
        "print(f\"Desil 1 dari {selected_column1}: {d1_value1:.2f}\")\n",
        "print(f\"Desil 1 dari {selected_column2}: {d1_value2:.2f}\\n\")\n",
        "\n",
        "# Desil 5\n",
        "d5_value1 = column_data_numeric1.quantile(0.5)\n",
        "d5_value2 = column_data_numeric2.quantile(0.5)\n",
        "\n",
        "print(f\"Desil 5 dari {selected_column1}: {d5_value1:.2f}\")\n",
        "print(f\"Desil 5 dari {selected_column2}: {d5_value2:.2f}\\n\")\n",
        "\n",
        "# Desil 9\n",
        "d9_value1 = column_data_numeric1.quantile(0.9)\n",
        "d9_value2 = column_data_numeric2.quantile(0.9)\n",
        "\n",
        "print(f\"Desil 9 dari {selected_column1}: {d9_value1:.2f}\")\n",
        "print(f\"Desil 9 dari {selected_column2}: {d9_value2:.2f}\")\n"
      ],
      "metadata": {
        "colab": {
          "base_uri": "https://localhost:8080/"
        },
        "id": "obkqIMo5f70s",
        "outputId": "691fa8f3-23ab-42ae-ee5b-03f2872ac4cc"
      },
      "execution_count": null,
      "outputs": [
        {
          "output_type": "stream",
          "name": "stdout",
          "text": [
            "Mencari Nilai Desil : \n",
            "Desil 1 dari Sensus BPS 2020: 305780.70\n",
            "Desil 1 dari Data Kemendagri 2015: 280280.90\n",
            "\n",
            "Desil 5 dari Sensus BPS 2020: 702236.50\n",
            "Desil 5 dari Data Kemendagri 2015: 633852.00\n",
            "\n",
            "Desil 9 dari Sensus BPS 2020: 2434585.10\n",
            "Desil 9 dari Data Kemendagri 2015: 2244903.60\n"
          ]
        }
      ]
    },
    {
      "cell_type": "code",
      "source": [
        "##Mencari Nilai Simpangan Baku\n",
        "\n",
        "print(\"Mencari Nilai Simpangan Baku : \")\n",
        "\n",
        "std_deviation1 = np.std(column_data_numeric1)\n",
        "std_deviation2 = np.std(column_data_numeric2)\n",
        "\n",
        "print(f\"Simpangan Baku dari {selected_column1}: {std_deviation1:.3f}\")\n",
        "print(f\"Simpangan Baku dari {selected_column2}: {std_deviation2:.3f}\")"
      ],
      "metadata": {
        "colab": {
          "base_uri": "https://localhost:8080/"
        },
        "id": "KYbn_c6igBbf",
        "outputId": "51e5a184-b8a6-4666-8d6e-30f90b0c4256"
      },
      "execution_count": null,
      "outputs": [
        {
          "output_type": "stream",
          "name": "stdout",
          "text": [
            "Mencari Nilai Simpangan Baku : \n",
            "Simpangan Baku dari Sensus BPS 2020: 784026.934\n",
            "Simpangan Baku dari Data Kemendagri 2015: 741408.359\n"
          ]
        }
      ]
    },
    {
      "cell_type": "code",
      "source": [
        "##Mencari Nilai Kombinasi\n",
        "print(\"Mencari Nilai Kombinasi : \")\n",
        "\n",
        "# Fungsi untuk menghitung kombinasi dari kolom data\n",
        "def calculate_combinations(data_column, r):\n",
        "    # Mendapatkan semua kombinasi dari data_column dengan panjang r\n",
        "    comb_list = list(combinations(data_column, r))\n",
        "    return comb_list\n",
        "\n",
        "# Menghitung kombinasi dari kolom 'Sensus BPS 2020' dengan panjang r\n",
        "r_value = 2  # Ubah sesuai kebutuhan\n",
        "combinations_list = calculate_combinations(data['Sensus BPS 2020'], r_value)\n",
        "\n",
        "# Menampilkan hasil kombinasi dengan break setiap 5 kombinasi dan batas maksimal 20 data\n",
        "print(f'Kombinasi dari kolom Sensus BPS 2020 dengan panjang {r_value}:')\n",
        "for i, combo in enumerate(combinations_list, start=1):\n",
        "    print(combo, end='\\t')\n",
        "    if i % 3 == 0 or i == 20:\n",
        "        print()  # Tambahkan break setiap 3 kombinasi\n",
        "    if i == 20:\n",
        "        break  # Hentikan loop jika sudah mencapai batas 20 data\n",
        "\n",
        "\n",
        "# Menghitung kombinasi dari kolom 'Sensus BPS 2020' dengan panjang r\n",
        "r_value = 2  # Ubah sesuai kebutuhan\n",
        "combinations_list = calculate_combinations(data['Data Kemendagri 2015'], r_value)\n",
        "\n",
        "# Menampilkan hasil kombinasi dengan break setiap 5 kombinasi dan batas maksimal 20 data\n",
        "print(f'\\nKombinasi dari kolom Data Kemendagri 2015 dengan panjang {r_value}:')\n",
        "for i, combo in enumerate(combinations_list, start=1):\n",
        "    print(combo, end='\\t')\n",
        "    if i % 3 == 0 or i == 20:\n",
        "        print()  # Tambahkan break setiap 3 kombinasi\n",
        "    if i == 20:\n",
        "        break  # Hentikan loop jika sudah mencapai batas 20 data"
      ],
      "metadata": {
        "colab": {
          "base_uri": "https://localhost:8080/"
        },
        "id": "-lPoQkClgMuj",
        "outputId": "e907753c-08ce-4fe4-8388-4a86317576fc"
      },
      "execution_count": null,
      "outputs": [
        {
          "output_type": "stream",
          "name": "stdout",
          "text": [
            "Mencari Nilai Kombinasi : \n",
            "Kombinasi dari kolom Sensus BPS 2020 dengan panjang 2:\n",
            "('3.037.139', '2.874.314')\t('3.037.139', '2.543.676')\t('3.037.139', '2.444.160')\t\n",
            "('3.037.139', '2.435.252')\t('3.037.139', '2.434.511')\t('3.037.139', '2.226.812')\t\n",
            "('3.037.139', '2.056.335')\t('3.037.139', '1.895.486')\t('3.037.139', '1.778.981')\t\n",
            "('3.037.139', '1.668.848')\t('3.037.139', '1.653.524')\t('3.037.139', '1.423.877')\t\n",
            "('3.037.139', '1.354.350')\t('3.037.139', '1.196.396')\t('3.037.139', '1.166.066')\t\n",
            "('3.037.139', '1.056.896')\t('3.037.139', '1.043.070')\t('3.037.139', '983.356')\t\n",
            "('3.037.139', '909.040')\t('3.037.139', '843.810')\t\n",
            "\n",
            "Kombinasi dari kolom Data Kemendagri 2015 dengan panjang 2:\n",
            "('2.852.887', '2.805.906')\t('2.852.887', '2.381.053')\t('2.852.887', '2.339.463')\t\n",
            "('2.852.887', '2.465.469')\t('2.852.887', '2.234.397')\t('2.852.887', '2.113.411')\t\n",
            "('2.852.887', '1.631.951')\t('2.852.887', '1.566.190')\t('2.852.887', '1.647.853')\t\n",
            "('2.852.887', '1.548.064')\t('2.852.887', '1.687.222')\t('2.852.887', '1.651.146')\t\n",
            "('2.852.887', '1.219.245')\t('2.852.887', '1.029.808')\t('2.852.887', '1.166.761')\t\n",
            "('2.852.887', '1.114.581')\t('2.852.887', '982.469')\t('2.852.887', '855.221')\t\n",
            "('2.852.887', '872.271')\t('2.852.887', '808.945')\t\n"
          ]
        }
      ]
    }
  ]
}